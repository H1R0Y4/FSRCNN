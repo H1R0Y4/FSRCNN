{
 "cells": [
  {
   "cell_type": "code",
   "execution_count": 5,
   "metadata": {},
   "outputs": [],
   "source": [
    "import glob\n",
    "import h5py\n",
    "import numpy as np\n",
    "from PIL import Image\n",
    "import matplotlib.pyplot as plt\n",
    "\n",
    "import torch \n",
    "import os"
   ]
  },
  {
   "cell_type": "code",
   "execution_count": 26,
   "metadata": {},
   "outputs": [],
   "source": [
    "with_aug = True\n",
    "\n",
    "scale = 2\n",
    "patch_size = 10\n",
    "\n",
    "# scale = 3\n",
    "# patch_size = 7\n",
    "\n",
    "# scale = 4\n",
    "# patch_size = 6"
   ]
  },
  {
   "cell_type": "code",
   "execution_count": 27,
   "metadata": {},
   "outputs": [],
   "source": [
    "def convert_rgb_to_y(img, dim_order='hwc'):\n",
    "    if dim_order == 'hwc':\n",
    "        return 16. + (64.738 * img[..., 0] + 129.057 * img[..., 1] + 25.064 * img[..., 2]) / 256.\n",
    "    else:\n",
    "        return 16. + (64.738 * img[0] + 129.057 * img[1] + 25.064 * img[2]) / 256."
   ]
  },
  {
   "cell_type": "markdown",
   "metadata": {},
   "source": [
    "# 画像の加工\n",
    "- [resize](https://ky-orihara.hatenablog.com/entry/2019/03/12/021106)(BICUBIC法などの解説がある)"
   ]
  },
  {
   "cell_type": "code",
   "execution_count": 21,
   "metadata": {},
   "outputs": [],
   "source": [
    "import sys"
   ]
  },
  {
   "cell_type": "code",
   "execution_count": 28,
   "metadata": {},
   "outputs": [],
   "source": [
    "def train(output_path,output_dir, images_dir ):\n",
    "    os.mkdir(output_dir) if not os.path.isdir(output_dir) else None\n",
    "    h5_file = h5py.File(output_dir+'/'+output_path,'w')\n",
    "    \n",
    "    lr_patches = []\n",
    "    hr_patches = []\n",
    "    \n",
    "    for image_path in sorted(glob.glob('{}/*'.format(images_dir))): #ソートしながら画像ファイル名を取得\n",
    "        hr = Image.open(image_path).convert('RGB') #画像ファイルをRGBに転換する\n",
    "        hr_images = [] #配列を作成する\n",
    "        \n",
    "        if with_aug == True: #拡張したいとき\n",
    "            for s in [1.0, 0.9, 0.8 ,0.7,0.6]: #0.6~1.0倍\n",
    "                for r in [0, 90, 180, 270]: #0~270度回転\n",
    "                    tmp = hr.resize((int(hr.width * s), int(hr.height * s)), resample=Image.BICUBIC) #拡大させる\n",
    "                    tmp = tmp.rotate(r, expand=True) #回転させる\n",
    "                    hr_images.append(tmp)\n",
    "        else:\n",
    "            hr_images.append(hr) #配列に追加する\n",
    "        for hr in hr_images:# hr_imagesを1つずつ展開\n",
    "#             hr_width = (hr.width // scale) * scale# 横のサイズを変更(少しだけ？)\n",
    "#             hr_height = (hr.height // scale) * scale # 縦のサイズを変更\n",
    "            #hr = hr.resize((hr.width, hr.height), resample=Image.BICUBIC)# hrの縦横をバイキュービック法を使用し、変更したサイズにする\n",
    "            lr = hr.resize((hr.width // scale, hr.height // scale), resample=Image.BICUBIC)# scaleで割った縦横サイズでlrを作成する\n",
    "            hr = np.array(hr).astype(np.float32)#npの配列にする\n",
    "            lr = np.array(lr).astype(np.float32) #npの配列にする\n",
    "            hr = convert_rgb_to_y(hr)#RGBからYCbCrの変換で色がめちゃくちゃにならないように、自作関数を使いHR画像の配列を変換させる\n",
    "            lr = convert_rgb_to_y(lr) #同じく,自作関数を使いLR画像の配列を変換させる\n",
    " \n",
    "            \n",
    "            for i in range(0, lr.shape[0] - patch_size +1, scale): #　0　から　lr.shape[0]-patch_size+1　まで、　scale　間隔でiに代入する\n",
    "                for j in range(0, lr.shape[1] - patch_size +1, scale): #　0　から　lr.shape[1]-patch_size+1　まで、　scale　間隔でiに代入する\n",
    "                    lr_patches.append(lr[i : i+patch_size, j : j+patch_size])\n",
    "                    hr_patches.append(hr[i*scale : i*scale+patch_size*scale, j*scale : j*scale+patch_size*scale])\n",
    "    \n",
    "    lr_patches = np.array(lr_patches) #lr_patchesをnp配列にする\n",
    "    hr_patches = np.array(hr_patches) #lr_patchesをnp配列にする\n",
    "    h5_file.create_dataset('lr',data=lr_patches)\n",
    "    h5_file.create_dataset('hr',data=hr_patches)\n",
    "    \n",
    "    h5_file.close()"
   ]
  },
  {
   "cell_type": "code",
   "execution_count": 29,
   "metadata": {},
   "outputs": [],
   "source": [
    "train('h5_of_anime-face-datasets_Train3.h5','test_dir' ,\"/home/b20saito/CODE/PROX2/FSRCNN/create_h5_of_anime-face-datasets/train/\")"
   ]
  },
  {
   "cell_type": "code",
   "execution_count": 30,
   "metadata": {},
   "outputs": [],
   "source": [
    "def eval(output_path,output_dir, images_dir):\n",
    "    os.mkdir(output_dir) if not os.path.isdir(output_dir) else None\n",
    "    h5_file = h5py.File(output_dir+'/'+output_path,'w')\n",
    "    \n",
    "    lr_group = h5_file.create_group('lr') #lrというグループを作成する 辞書のように動作するkeyはlr valueは[]\n",
    "    hr_group = h5_file.create_group('hr') #hrというグループを作成する\n",
    "    \n",
    "    for i, image_path in enumerate(sorted(glob.glob('{}/*'.format(images_dir)))):\n",
    "        hr = Image.open(image_path).convert('RGB')\n",
    "#         hr_width = (hr.width//scale) * scale #int型\n",
    "#         hr_height = (hr.height//scale) * scale#int型\n",
    "\n",
    "#         hr = hr.resize((hr.width,hr.height),resample=Image.BICUBIC) #上の計算結果の値をhrの値にする(64, 64) \n",
    "        lr = hr.resize((hr.width//scale,hr.height//scale),resample=Image.BICUBIC) #hrをscaleで割った物をlrの値にする (32, 32)\n",
    "        hr = np.array(hr).astype(np.float32) #(64, 64, 3) \n",
    "        lr = np.array(lr).astype(np.float32) #(32, 32, 3)\n",
    "        hr = convert_rgb_to_y(hr) #(64, 64) \n",
    "        lr = convert_rgb_to_y(lr) #(32, 32)\n",
    "        \n",
    "        lr_group.create_dataset(str(i),data=lr)\n",
    "        hr_group.create_dataset(str(i),data=hr)\n",
    "    \n",
    "    h5_file.close()"
   ]
  },
  {
   "cell_type": "code",
   "execution_count": 31,
   "metadata": {},
   "outputs": [],
   "source": [
    "eval('h5_of_anime-face-datasets_eval3.h5','test_dir' ,\"/home/b20saito/CODE/PROX2/FSRCNN/create_h5_of_anime-face-datasets/eval/\")"
   ]
  },
  {
   "cell_type": "code",
   "execution_count": 39,
   "metadata": {},
   "outputs": [],
   "source": [
    "img = glob.glob(\"/home/b20saito/CODE/PROX2/FSRCNN/create_h5_of_anime-face-datasets/eval/*\")"
   ]
  },
  {
   "cell_type": "code",
   "execution_count": 41,
   "metadata": {},
   "outputs": [
    {
     "name": "stdout",
     "output_type": "stream",
     "text": [
      "10\n"
     ]
    }
   ],
   "source": [
    "print(len(img))"
   ]
  },
  {
   "cell_type": "code",
   "execution_count": null,
   "metadata": {},
   "outputs": [],
   "source": []
  }
 ],
 "metadata": {
  "kernelspec": {
   "display_name": "3.6.9",
   "language": "python",
   "name": "3.6.9"
  },
  "language_info": {
   "codemirror_mode": {
    "name": "ipython",
    "version": 3
   },
   "file_extension": ".py",
   "mimetype": "text/x-python",
   "name": "python",
   "nbconvert_exporter": "python",
   "pygments_lexer": "ipython3",
   "version": "3.6.9"
  }
 },
 "nbformat": 4,
 "nbformat_minor": 4
}
