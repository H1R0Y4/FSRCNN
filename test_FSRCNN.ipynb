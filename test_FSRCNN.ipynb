{
 "cells": [
  {
   "cell_type": "markdown",
   "metadata": {},
   "source": [
    "# [参考サイトの写像みたいな物](https://github.com/yjn870/FSRCNN-pytorch/blob/master/test.py)"
   ]
  },
  {
   "cell_type": "code",
   "execution_count": 1,
   "metadata": {},
   "outputs": [],
   "source": [
    "import torch\n",
    "import torch.nn as nn\n",
    "import torch.backends.cudnn as cudnn\n",
    "import numpy as np\n",
    "from PIL import Image\n",
    "from collections import OrderedDict\n",
    "import matplotlib.pyplot as plt"
   ]
  },
  {
   "cell_type": "markdown",
   "metadata": {},
   "source": [
    "# モデル定義 "
   ]
  },
  {
   "cell_type": "code",
   "execution_count": 2,
   "metadata": {},
   "outputs": [],
   "source": [
    "class FSRCNN(nn.Module):\n",
    "    def __init__(self, scale_factor):\n",
    "        super(FSRCNN, self).__init__()\n",
    "        self.first_layer = nn.Sequential(OrderedDict([\n",
    "            (\"fl_conv\",nn.Conv2d(1,56,kernel_size=5,padding = 2)),\n",
    "            (\"fl_PReLU\",nn.PReLU(56))\n",
    "        ]))\n",
    "        \n",
    "        self.middle_layer =nn.Sequential(OrderedDict([\n",
    "            (\"ml_conv1\",nn.Conv2d(56,12,kernel_size=1)),\n",
    "            (\"ml_PReLU1\",nn.PReLU(12)),\n",
    "            \n",
    "            (\"ml_conv2\",nn.Conv2d(12,12,kernel_size=3,padding=1)),\n",
    "            (\"ml_PReLU2\",nn.PReLU(12)),\n",
    "            \n",
    "            (\"ml_conv3\",nn.Conv2d(12,12,kernel_size=3,padding=1)),\n",
    "            (\"ml_PReLU3\",nn.PReLU(12)),\n",
    "            \n",
    "            (\"ml_conv4\",nn.Conv2d(12,12,kernel_size=3,padding=1)),\n",
    "            (\"ml_PReLU4\",nn.PReLU(12)),\n",
    "            \n",
    "            (\"ml_conv5\",nn.Conv2d(12,12,kernel_size=3,padding=1)),\n",
    "            (\"ml_PReLU5\",nn.PReLU(12)),\n",
    "            \n",
    "            (\"ml_conv6\",nn.Conv2d(12,56,kernel_size=1)),\n",
    "            (\"ml_PReLU6\",nn.PReLU(56)),\n",
    "        ]))\n",
    "        \n",
    "        self.last_layer = nn.Sequential(OrderedDict([\n",
    "            (\"ll_Deconv\",nn.ConvTranspose2d(56,1,\n",
    "                                            kernel_size=9,stride=scale_factor,padding=4,output_padding=scale_factor-1))\n",
    "        ]))\n",
    "\n",
    "        nn.init.normal_(self.first_layer.fl_conv.weight, 0.0, 0.0378)\n",
    "        nn.init.zeros_(self.first_layer.fl_conv.bias.data)\n",
    "        nn.init.normal_(self.middle_layer.ml_conv1.weight, 0.0, 0.3536)\n",
    "        nn.init.zeros_(self.middle_layer.ml_conv1.bias.data)\n",
    "        nn.init.normal_(self.middle_layer.ml_conv2.weight, 0.0, 0.1179)\n",
    "        nn.init.zeros_(self.middle_layer.ml_conv2.bias.data)\n",
    "        nn.init.normal_(self.middle_layer.ml_conv3.weight, 0.0, 0.1179)\n",
    "        nn.init.zeros_(self.middle_layer.ml_conv3.bias.data)\n",
    "        nn.init.normal_(self.middle_layer.ml_conv4.weight, 0.0, 0.1179)\n",
    "        nn.init.zeros_(self.middle_layer.ml_conv4.bias.data)\n",
    "        nn.init.normal_(self.middle_layer.ml_conv5.weight, 0.0, 0.1179)\n",
    "        nn.init.zeros_(self.middle_layer.ml_conv5.bias.data)\n",
    "        nn.init.normal_(self.middle_layer.ml_conv6.weight, 0.0, 0.189)\n",
    "        nn.init.zeros_(self.middle_layer.ml_conv6.bias.data)\n",
    "        nn.init.normal_(self.last_layer.ll_Deconv.weight, 0.0, 0.001)\n",
    "        nn.init.zeros_(self.last_layer.ll_Deconv.bias.data)\n",
    "        \n",
    "    def forward(self,x):\n",
    "        x = self.first_layer(x)\n",
    "        x = self.middle_layer(x)\n",
    "        x = self.last_layer(x)\n",
    "        return x"
   ]
  },
  {
   "cell_type": "markdown",
   "metadata": {},
   "source": [
    "# 使う関数定義"
   ]
  },
  {
   "cell_type": "code",
   "execution_count": 3,
   "metadata": {},
   "outputs": [],
   "source": [
    "def convert_rgb_to_ycbcr(img, dim_order='hwc'):\n",
    "    if dim_order == 'hwc':\n",
    "        y = 16. + (64.738 * img[..., 0] + 129.057 * img[..., 1] + 25.064 * img[..., 2]) / 256.\n",
    "        cb = 128. + (-37.945 * img[..., 0] - 74.494 * img[..., 1] + 112.439 * img[..., 2]) / 256.\n",
    "        cr = 128. + (112.439 * img[..., 0] - 94.154 * img[..., 1] - 18.285 * img[..., 2]) / 256.\n",
    "    else:\n",
    "        y = 16. + (64.738 * img[0] + 129.057 * img[1] + 25.064 * img[2]) / 256.\n",
    "        cb = 128. + (-37.945 * img[0] - 74.494 * img[1] + 112.439 * img[2]) / 256.\n",
    "        cr = 128. + (112.439 * img[0] - 94.154 * img[1] - 18.285 * img[2]) / 256.\n",
    "    return np.array([y, cb, cr]).transpose([1, 2, 0])"
   ]
  },
  {
   "cell_type": "code",
   "execution_count": 4,
   "metadata": {},
   "outputs": [],
   "source": [
    "def convert_ycbcr_to_rgb(img, dim_order='hwc'):\n",
    "    if dim_order == 'hwc':\n",
    "        r = 298.082 * img[..., 0] / 256. + 408.583 * img[..., 2] / 256. - 222.921\n",
    "        g = 298.082 * img[..., 0] / 256. - 100.291 * img[..., 1] / 256. - 208.120 * img[..., 2] / 256. + 135.576\n",
    "        b = 298.082 * img[..., 0] / 256. + 516.412 * img[..., 1] / 256. - 276.836\n",
    "    else:\n",
    "        r = 298.082 * img[0] / 256. + 408.583 * img[2] / 256. - 222.921\n",
    "        g = 298.082 * img[0] / 256. - 100.291 * img[1] / 256. - 208.120 * img[2] / 256. + 135.576\n",
    "        b = 298.082 * img[0] / 256. + 516.412 * img[1] / 256. - 276.836\n",
    "    return np.array([r, g, b]).transpose([1, 2, 0])"
   ]
  },
  {
   "cell_type": "markdown",
   "metadata": {},
   "source": [
    "#### [...について](https://note.nkmk.me/python-numpy-ellipsis/)"
   ]
  },
  {
   "cell_type": "code",
   "execution_count": 5,
   "metadata": {},
   "outputs": [],
   "source": [
    "def preprocess(img, device):\n",
    "    img = np.array(img).astype(np.float32) #imgをnp.array型でfloat32型の配列に変換\n",
    "    ycbcr = convert_rgb_to_ycbcr(img) #rgb形式をycbcr形式に変換\n",
    "    x = ycbcr[..., 0] #最初から最後の手前の次元の記述を省略\n",
    "    x /= 255\n",
    "    x = torch.from_numpy(x).to(device) #torch.Size([32, 32])\n",
    "#     print(x.shape)\n",
    "    x = x.unsqueeze(0).unsqueeze(0) #偽のバッチディメンションを2つ追加　torch.Size([32, 32]) ＝＞ torch.Size([1, 1, 32, 32])\n",
    "#     print(x.shape)\n",
    "    return x, ycbcr"
   ]
  },
  {
   "cell_type": "code",
   "execution_count": 6,
   "metadata": {},
   "outputs": [],
   "source": [
    "def calc_psnr(img1,img2):\n",
    "    return 10. * torch.log10(1. / torch.mean((img1-img2) ** 2)) #10.はfloat型"
   ]
  },
  {
   "cell_type": "markdown",
   "metadata": {},
   "source": [
    "# 初期設定"
   ]
  },
  {
   "cell_type": "markdown",
   "metadata": {},
   "source": [
    "### 3. cuDNNのベンチマークモードをオンにするかどうかのオプション\n",
    "- Trueにするとオートチューナーがネットワークの構成に対し最適なアルゴリズムを見つけるため、高速化されます.\n",
    "- [benchmark=Trueとは](https://qiita.com/koshian2/items/9877ed4fb3716eac0c37)"
   ]
  },
  {
   "cell_type": "code",
   "execution_count": 7,
   "metadata": {},
   "outputs": [
    {
     "name": "stdout",
     "output_type": "stream",
     "text": [
      "cuda:0\n"
     ]
    }
   ],
   "source": [
    "cudnn.benchmark = True\n",
    "device = torch.device('cuda:0' if torch.cuda.is_available() else 'cpu')\n",
    "print(device)"
   ]
  },
  {
   "cell_type": "code",
   "execution_count": 10,
   "metadata": {},
   "outputs": [
    {
     "name": "stdout",
     "output_type": "stream",
     "text": [
      "/home/b20saito/CODE/PROX2/FSRCNN/create_h5_of_anime-face-datasets/test32x32/img32_12504.png\n"
     ]
    }
   ],
   "source": [
    "weight_file = \"/home/b20saito/CODE/PROX2/FSRCNN/output/x2_4/best.pth\"\n",
    "image_file = \"/home/b20saito/CODE/PROX2/FSRCNN/create_h5_of_anime-face-datasets/test32x32/img32_12504.png\"\n",
    "print(image_file)\n",
    "scale = 2\n"
   ]
  },
  {
   "cell_type": "code",
   "execution_count": 11,
   "metadata": {},
   "outputs": [],
   "source": [
    "model = FSRCNN(scale_factor=scale).to(device) #scale_factorをscaleに設定。モデルのインスタンスを作成。GPUを使用する"
   ]
  },
  {
   "cell_type": "code",
   "execution_count": 12,
   "metadata": {},
   "outputs": [],
   "source": [
    "state_dict = model.state_dict() #辞書型にする"
   ]
  },
  {
   "cell_type": "code",
   "execution_count": 13,
   "metadata": {},
   "outputs": [],
   "source": [
    "for n, p in torch.load(weight_file,map_location=lambda storage, location: storage).items():\n",
    "    if n in state_dict.keys():\n",
    "        state_dict[n].copy_(p)\n",
    "    else:\n",
    "        raise KeyError(n)"
   ]
  },
  {
   "cell_type": "code",
   "execution_count": 14,
   "metadata": {},
   "outputs": [
    {
     "ename": "NameError",
     "evalue": "name 'image' is not defined",
     "output_type": "error",
     "traceback": [
      "\u001b[0;31m---------------------------------------------------------------------------\u001b[0m",
      "\u001b[0;31mNameError\u001b[0m                                 Traceback (most recent call last)",
      "\u001b[0;32m<ipython-input-14-b8fc6baaebc7>\u001b[0m in \u001b[0;36m<module>\u001b[0;34m\u001b[0m\n\u001b[0;32m----> 1\u001b[0;31m \u001b[0mimage\u001b[0m\u001b[0;34m.\u001b[0m\u001b[0mwidth\u001b[0m\u001b[0;34m\u001b[0m\u001b[0;34m\u001b[0m\u001b[0m\n\u001b[0m",
      "\u001b[0;31mNameError\u001b[0m: name 'image' is not defined"
     ]
    }
   ],
   "source": [
    "image.width"
   ]
  },
  {
   "cell_type": "markdown",
   "metadata": {},
   "source": [
    "# 低解像度の画像を大きくしたいならこれ"
   ]
  },
  {
   "cell_type": "code",
   "execution_count": 15,
   "metadata": {},
   "outputs": [
    {
     "name": "stdout",
     "output_type": "stream",
     "text": [
      "torch.Size([1, 1, 32, 32])\n",
      "torch.Size([1, 1, 32, 32])\n"
     ]
    },
    {
     "data": {
      "text/plain": [
       "<matplotlib.image.AxesImage at 0x7f53186c7080>"
      ]
     },
     "execution_count": 15,
     "metadata": {},
     "output_type": "execute_result"
    },
    {
     "data": {
      "image/png": "[encoded data removed]",
      "text/plain": [
       "<Figure size 432x288 with 1 Axes>"
      ]
     },
     "metadata": {
      "needs_background": "light"
     },
     "output_type": "display_data"
    }
   ],
   "source": [
    "model.eval()\n",
    "image = Image.open(image_file).convert('RGB') #PIL.Imageで画像の情報を開く。RGBに変換する\n",
    "\n",
    "image_width = (image.width // scale) * scale\n",
    "image_height = (image.height //scale) * scale\n",
    "\n",
    "\n",
    "hr = image.resize((image_width, image_height) , resample=Image.BICUBIC)\n",
    "# lr = hr.resize( (hr.width // scale, hr.height // scale), resample=Image.BICUBIC)\n",
    "lr = hr.resize( (hr.width, hr.height), resample=Image.BICUBIC)\n",
    "\n",
    "bicubic = lr.resize((lr.width * scale,lr.height * scale),resample=Image.BICUBIC)\n",
    "#bicubic.save(image_file.replace('.', '_bicubic_x{}.'.format(scale)))\n",
    "\n",
    "lr, _ = preprocess(lr,device)#前処理をする\n",
    "hr, _ = preprocess(hr,device)\n",
    "print(hr.shape)\n",
    "print(lr.shape)\n",
    "_, ycbcr = preprocess(bicubic, device)\n",
    "\n",
    "with torch.no_grad():\n",
    "    preds = model(lr).clamp(0.0,1.0)\n",
    "\n",
    "# psnr = calc_psnr(hr, preds)\n",
    "# print('PSNR: {:.2f}'.format(psnr))\n",
    "\n",
    "\n",
    "preds = preds.mul(255.0).cpu().numpy().squeeze(0).squeeze() #255.0をかける　cpu上にデータを載せる　torch.tensorからnumpy型にする 次元を2つ削除する\n",
    "\n",
    "\n",
    "output = np.array([preds, ycbcr[...,1],ycbcr[...,2]]).transpose([1,2,0])\n",
    "#予測した配列と ycbcrのcbチャネルとcrチャネルの配列をoutputの配列にする \n",
    "#さらに軸を移動させる (3, 64, 64) => (64, 64, 3)\n",
    "output = np.clip(convert_ycbcr_to_rgb(output),0.0,255.0).astype(np.uint8)\n",
    "#NumPy配列ndarrayを最小値・最大値に収める。int型に変換する\n",
    "#bgrで帰ってくる\n",
    "output = Image.fromarray(output)\n",
    "plt.imshow(output)\n",
    "#output.save(image_file.replace('.', '_fsrcnn_x{}.'.format(scale)))"
   ]
  },
  {
   "cell_type": "markdown",
   "metadata": {},
   "source": [
    "# このモデルの性能を知りたいならこっち"
   ]
  },
  {
   "cell_type": "code",
   "execution_count": 18,
   "metadata": {},
   "outputs": [
    {
     "name": "stdout",
     "output_type": "stream",
     "text": [
      "torch.Size([1, 1, 64, 64])\n",
      "torch.Size([1, 1, 32, 32])\n",
      "PSNR: 22.74\n"
     ]
    },
    {
     "data": {
      "text/plain": [
       "<matplotlib.image.AxesImage at 0x7f52e973bd30>"
      ]
     },
     "execution_count": 18,
     "metadata": {},
     "output_type": "execute_result"
    },
    {
     "data": {
      "image/png": "[encoded data removed]",
      "text/plain": [
       "<Figure size 432x288 with 1 Axes>"
      ]
     },
     "metadata": {
      "needs_background": "light"
     },
     "output_type": "display_data"
    }
   ],
   "source": [
    "model.eval()\n",
    "image = Image.open(\"./create_h5_of_anime-face-datasets/test64x64/12504.png\").convert('RGB') #PIL.Imageで画像の情報を開く。RGBに変換する\n",
    "\n",
    "image_width = (image.width // scale) * scale\n",
    "image_height = (image.height //scale) * scale\n",
    "\n",
    "\n",
    "hr = image.resize((image_width, image_height) , resample=Image.BICUBIC)\n",
    "lr = hr.resize( (hr.width // scale, hr.height // scale), resample=Image.BICUBIC)\n",
    "#lr = hr.resize( (hr.width, hr.height), resample=Image.BICUBIC)\n",
    "\n",
    "bicubic = lr.resize((lr.width * scale,lr.height * scale),resample=Image.BICUBIC)\n",
    "#bicubic.save(image_file.replace('.', '_bicubic_x{}.'.format(scale)))\n",
    "\n",
    "lr, _ = preprocess(lr,device)#前処理をする\n",
    "hr, _ = preprocess(hr,device)\n",
    "print(hr.shape)\n",
    "print(lr.shape)\n",
    "_, ycbcr = preprocess(bicubic, device)\n",
    "\n",
    "with torch.no_grad():\n",
    "    preds = model(lr).clamp(0.0,1.0)\n",
    "\n",
    "psnr = calc_psnr(hr, preds)\n",
    "print('PSNR: {:.2f}'.format(psnr))\n",
    "\n",
    "\n",
    "preds = preds.mul(255.0).cpu().numpy().squeeze(0).squeeze() #255.0をかける　cpu上にデータを載せる　torch.tensorからnumpy型にする 次元を2つ削除する\n",
    "\n",
    "\n",
    "output = np.array([preds, ycbcr[...,1],ycbcr[...,2]]).transpose([1,2,0])\n",
    "#予測した配列と ycbcrのcbチャネルとcrチャネルの配列をoutputの配列にする \n",
    "#さらに軸を移動させる (3, 64, 64) => (64, 64, 3)\n",
    "output = np.clip(convert_ycbcr_to_rgb(output),0.0,255.0).astype(np.uint8)\n",
    "#NumPy配列ndarrayを最小値・最大値に収める。int型に変換する\n",
    "#bgrで帰ってくる\n",
    "output = Image.fromarray(output)\n",
    "plt.imshow(output)\n",
    "#output.save(image_file.replace('.', '_fsrcnn_x{}.'.format(scale)))"
   ]
  },
  {
   "cell_type": "code",
   "execution_count": null,
   "metadata": {},
   "outputs": [],
   "source": []
  }
 ],
 "metadata": {
  "kernelspec": {
   "display_name": "3.6.9",
   "language": "python",
   "name": "3.6.9"
  },
  "language_info": {
   "codemirror_mode": {
    "name": "ipython",
    "version": 3
   },
   "file_extension": ".py",
   "mimetype": "text/x-python",
   "name": "python",
   "nbconvert_exporter": "python",
   "pygments_lexer": "ipython3",
   "version": "3.6.9"
  }
 },
 "nbformat": 4,
 "nbformat_minor": 4
}
